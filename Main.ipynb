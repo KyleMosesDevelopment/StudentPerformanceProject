{
 "cells": [
  {
   "cell_type": "markdown",
   "metadata": {
    "id": "oK6iFl6m25wU"
   },
   "source": [
    "## **Predicting Student Performance**\n",
    "\n",
    "How to do we assign value to our features?\n",
    "\n",
    "What factors improve our model? Can our model predict a certain subject more accurately?\n",
    "\n",
    "What model is gives us the closest prediction?"
   ]
  },
  {
   "cell_type": "markdown",
   "metadata": {
    "id": "0X5bFZHk55qs"
   },
   "source": [
    "## Importing and Loading the data"
   ]
  },
  {
   "cell_type": "code",
   "execution_count": 1,
   "metadata": {
    "colab": {
     "base_uri": "https://localhost:8080/"
    },
    "id": "C0zC5ftiHHz7",
    "outputId": "247b9007-2d2c-4c5e-d864-c43f7bc1069b"
   },
   "outputs": [
    {
     "name": "stdout",
     "output_type": "stream",
     "text": [
      "Requirement already satisfied: xgboost in c:\\users\\kyle moses\\anaconda3\\lib\\site-packages (1.5.0)\n",
      "Requirement already satisfied: scipy in c:\\users\\kyle moses\\anaconda3\\lib\\site-packages (from xgboost) (1.6.2)\n",
      "Requirement already satisfied: numpy in c:\\users\\kyle moses\\anaconda3\\lib\\site-packages (from xgboost) (1.20.1)\n"
     ]
    }
   ],
   "source": [
    "import numpy as np\n",
    "import pandas as pd\n",
    "import seaborn as sns\n",
    "!pip3 install xgboost\n",
    "import xgboost as xgb\n",
    "import matplotlib.pyplot as plt\n",
    "from sklearn import preprocessing\n",
    "from sklearn.preprocessing import StandardScaler\n",
    "from sklearn.metrics import accuracy_score\n",
    "from sklearn.linear_model import LinearRegression\n",
    "from sklearn.model_selection import train_test_split\n",
    "from sklearn.model_selection import cross_val_score\n",
    "from sklearn.preprocessing import LabelEncoder\n",
    "from sklearn.linear_model import LinearRegression\n",
    "from sklearn.linear_model import LogisticRegression\n",
    "from sklearn.metrics import classification_report\n",
    "from sklearn.metrics import confusion_matrix\n",
    "from sklearn.neighbors import KNeighborsClassifier"
   ]
  },
  {
   "cell_type": "code",
   "execution_count": 2,
   "metadata": {
    "colab": {
     "base_uri": "https://localhost:8080/"
    },
    "id": "8d6AQJujHbAU",
    "outputId": "cb5abdb2-3e17-420e-e90d-cad025d6a071"
   },
   "outputs": [
    {
     "data": {
      "text/html": [
       "<div>\n",
       "<style scoped>\n",
       "    .dataframe tbody tr th:only-of-type {\n",
       "        vertical-align: middle;\n",
       "    }\n",
       "\n",
       "    .dataframe tbody tr th {\n",
       "        vertical-align: top;\n",
       "    }\n",
       "\n",
       "    .dataframe thead th {\n",
       "        text-align: right;\n",
       "    }\n",
       "</style>\n",
       "<table border=\"1\" class=\"dataframe\">\n",
       "  <thead>\n",
       "    <tr style=\"text-align: right;\">\n",
       "      <th></th>\n",
       "      <th>gender</th>\n",
       "      <th>race/ethnicity</th>\n",
       "      <th>parental level of education</th>\n",
       "      <th>lunch</th>\n",
       "      <th>test preparation course</th>\n",
       "      <th>math score</th>\n",
       "      <th>reading score</th>\n",
       "      <th>writing score</th>\n",
       "    </tr>\n",
       "  </thead>\n",
       "  <tbody>\n",
       "    <tr>\n",
       "      <th>0</th>\n",
       "      <td>female</td>\n",
       "      <td>group B</td>\n",
       "      <td>bachelor's degree</td>\n",
       "      <td>standard</td>\n",
       "      <td>none</td>\n",
       "      <td>72</td>\n",
       "      <td>72</td>\n",
       "      <td>74</td>\n",
       "    </tr>\n",
       "    <tr>\n",
       "      <th>1</th>\n",
       "      <td>female</td>\n",
       "      <td>group C</td>\n",
       "      <td>some college</td>\n",
       "      <td>standard</td>\n",
       "      <td>completed</td>\n",
       "      <td>69</td>\n",
       "      <td>90</td>\n",
       "      <td>88</td>\n",
       "    </tr>\n",
       "    <tr>\n",
       "      <th>2</th>\n",
       "      <td>female</td>\n",
       "      <td>group B</td>\n",
       "      <td>master's degree</td>\n",
       "      <td>standard</td>\n",
       "      <td>none</td>\n",
       "      <td>90</td>\n",
       "      <td>95</td>\n",
       "      <td>93</td>\n",
       "    </tr>\n",
       "    <tr>\n",
       "      <th>3</th>\n",
       "      <td>male</td>\n",
       "      <td>group A</td>\n",
       "      <td>associate's degree</td>\n",
       "      <td>free/reduced</td>\n",
       "      <td>none</td>\n",
       "      <td>47</td>\n",
       "      <td>57</td>\n",
       "      <td>44</td>\n",
       "    </tr>\n",
       "    <tr>\n",
       "      <th>4</th>\n",
       "      <td>male</td>\n",
       "      <td>group C</td>\n",
       "      <td>some college</td>\n",
       "      <td>standard</td>\n",
       "      <td>none</td>\n",
       "      <td>76</td>\n",
       "      <td>78</td>\n",
       "      <td>75</td>\n",
       "    </tr>\n",
       "  </tbody>\n",
       "</table>\n",
       "</div>"
      ],
      "text/plain": [
       "   gender race/ethnicity parental level of education         lunch  \\\n",
       "0  female        group B           bachelor's degree      standard   \n",
       "1  female        group C                some college      standard   \n",
       "2  female        group B             master's degree      standard   \n",
       "3    male        group A          associate's degree  free/reduced   \n",
       "4    male        group C                some college      standard   \n",
       "\n",
       "  test preparation course  math score  reading score  writing score  \n",
       "0                    none          72             72             74  \n",
       "1               completed          69             90             88  \n",
       "2                    none          90             95             93  \n",
       "3                    none          47             57             44  \n",
       "4                    none          76             78             75  "
      ]
     },
     "execution_count": 2,
     "metadata": {},
     "output_type": "execute_result"
    }
   ],
   "source": [
    "df = pd.read_csv('./Resources/StudentsPerformance.csv')\n",
    "df.head()"
   ]
  },
  {
   "cell_type": "markdown",
   "metadata": {
    "id": "XcGooUia9usu"
   },
   "source": [
    "## Parental Education vs Income\n"
   ]
  },
  {
   "cell_type": "code",
   "execution_count": 3,
   "metadata": {
    "colab": {
     "base_uri": "https://localhost:8080/"
    },
    "id": "XdreXcynbCnE",
    "outputId": "696061c8-16b2-4a2b-a4df-01b8377e87e9"
   },
   "outputs": [
    {
     "name": "stdout",
     "output_type": "stream",
     "text": [
      "<class 'pandas.core.frame.DataFrame'>\n",
      "RangeIndex: 1000 entries, 0 to 999\n",
      "Data columns (total 8 columns):\n",
      " #   Column                       Non-Null Count  Dtype \n",
      "---  ------                       --------------  ----- \n",
      " 0   gender                       1000 non-null   object\n",
      " 1   race/ethnicity               1000 non-null   object\n",
      " 2   parental level of education  1000 non-null   object\n",
      " 3   lunch                        1000 non-null   object\n",
      " 4   test preparation course      1000 non-null   object\n",
      " 5   math score                   1000 non-null   int64 \n",
      " 6   reading score                1000 non-null   int64 \n",
      " 7   writing score                1000 non-null   int64 \n",
      "dtypes: int64(3), object(5)\n",
      "memory usage: 62.6+ KB\n"
     ]
    }
   ],
   "source": [
    "df.info()"
   ]
  },
  {
   "cell_type": "code",
   "execution_count": 4,
   "metadata": {
    "colab": {
     "base_uri": "https://localhost:8080/"
    },
    "id": "S_kHSQxxJjnB",
    "outputId": "06c7fd7d-f13f-45d3-f71b-3cd085814e83"
   },
   "outputs": [
    {
     "name": "stdout",
     "output_type": "stream",
     "text": [
      "[\"bachelor's degree\" 'some college' \"master's degree\" \"associate's degree\"\n",
      " 'high school' 'some high school']\n"
     ]
    }
   ],
   "source": [
    "unique_education = df['parental level of education'].unique()\n",
    "print(unique_education)"
   ]
  },
  {
   "cell_type": "markdown",
   "metadata": {
    "id": "0PwHBgbR_J0Z"
   },
   "source": [
    "### Import and view New Dataset (Income Evaluation)"
   ]
  },
  {
   "cell_type": "code",
   "execution_count": 5,
   "metadata": {
    "colab": {
     "base_uri": "https://localhost:8080/"
    },
    "id": "D8ONcXu179Re",
    "outputId": "eb650085-98af-4ae4-f124-a28b2cfa1f17"
   },
   "outputs": [
    {
     "data": {
      "text/html": [
       "<div>\n",
       "<style scoped>\n",
       "    .dataframe tbody tr th:only-of-type {\n",
       "        vertical-align: middle;\n",
       "    }\n",
       "\n",
       "    .dataframe tbody tr th {\n",
       "        vertical-align: top;\n",
       "    }\n",
       "\n",
       "    .dataframe thead th {\n",
       "        text-align: right;\n",
       "    }\n",
       "</style>\n",
       "<table border=\"1\" class=\"dataframe\">\n",
       "  <thead>\n",
       "    <tr style=\"text-align: right;\">\n",
       "      <th></th>\n",
       "      <th>age</th>\n",
       "      <th>fnlwgt</th>\n",
       "      <th>education</th>\n",
       "      <th>education.num</th>\n",
       "      <th>marital.status</th>\n",
       "      <th>relationship</th>\n",
       "      <th>race</th>\n",
       "      <th>sex</th>\n",
       "      <th>capital.gain</th>\n",
       "      <th>capital.loss</th>\n",
       "      <th>hours.per.week</th>\n",
       "      <th>native.country</th>\n",
       "      <th>income</th>\n",
       "    </tr>\n",
       "  </thead>\n",
       "  <tbody>\n",
       "    <tr>\n",
       "      <th>0</th>\n",
       "      <td>90</td>\n",
       "      <td>77053</td>\n",
       "      <td>HS-grad</td>\n",
       "      <td>9</td>\n",
       "      <td>Widowed</td>\n",
       "      <td>Not-in-family</td>\n",
       "      <td>White</td>\n",
       "      <td>Female</td>\n",
       "      <td>0</td>\n",
       "      <td>4356</td>\n",
       "      <td>40</td>\n",
       "      <td>United-States</td>\n",
       "      <td>&lt;=50K</td>\n",
       "    </tr>\n",
       "    <tr>\n",
       "      <th>1</th>\n",
       "      <td>82</td>\n",
       "      <td>132870</td>\n",
       "      <td>HS-grad</td>\n",
       "      <td>9</td>\n",
       "      <td>Widowed</td>\n",
       "      <td>Not-in-family</td>\n",
       "      <td>White</td>\n",
       "      <td>Female</td>\n",
       "      <td>0</td>\n",
       "      <td>4356</td>\n",
       "      <td>18</td>\n",
       "      <td>United-States</td>\n",
       "      <td>&lt;=50K</td>\n",
       "    </tr>\n",
       "    <tr>\n",
       "      <th>2</th>\n",
       "      <td>66</td>\n",
       "      <td>186061</td>\n",
       "      <td>Some-college</td>\n",
       "      <td>10</td>\n",
       "      <td>Widowed</td>\n",
       "      <td>Unmarried</td>\n",
       "      <td>Black</td>\n",
       "      <td>Female</td>\n",
       "      <td>0</td>\n",
       "      <td>4356</td>\n",
       "      <td>40</td>\n",
       "      <td>United-States</td>\n",
       "      <td>&lt;=50K</td>\n",
       "    </tr>\n",
       "    <tr>\n",
       "      <th>3</th>\n",
       "      <td>54</td>\n",
       "      <td>140359</td>\n",
       "      <td>7th-8th</td>\n",
       "      <td>4</td>\n",
       "      <td>Divorced</td>\n",
       "      <td>Unmarried</td>\n",
       "      <td>White</td>\n",
       "      <td>Female</td>\n",
       "      <td>0</td>\n",
       "      <td>3900</td>\n",
       "      <td>40</td>\n",
       "      <td>United-States</td>\n",
       "      <td>&lt;=50K</td>\n",
       "    </tr>\n",
       "    <tr>\n",
       "      <th>4</th>\n",
       "      <td>41</td>\n",
       "      <td>264663</td>\n",
       "      <td>Some-college</td>\n",
       "      <td>10</td>\n",
       "      <td>Separated</td>\n",
       "      <td>Own-child</td>\n",
       "      <td>White</td>\n",
       "      <td>Female</td>\n",
       "      <td>0</td>\n",
       "      <td>3900</td>\n",
       "      <td>40</td>\n",
       "      <td>United-States</td>\n",
       "      <td>&lt;=50K</td>\n",
       "    </tr>\n",
       "  </tbody>\n",
       "</table>\n",
       "</div>"
      ],
      "text/plain": [
       "   age  fnlwgt     education  education.num marital.status   relationship  \\\n",
       "0   90   77053       HS-grad              9        Widowed  Not-in-family   \n",
       "1   82  132870       HS-grad              9        Widowed  Not-in-family   \n",
       "2   66  186061  Some-college             10        Widowed      Unmarried   \n",
       "3   54  140359       7th-8th              4       Divorced      Unmarried   \n",
       "4   41  264663  Some-college             10      Separated      Own-child   \n",
       "\n",
       "    race     sex  capital.gain  capital.loss  hours.per.week native.country  \\\n",
       "0  White  Female             0          4356              40  United-States   \n",
       "1  White  Female             0          4356              18  United-States   \n",
       "2  Black  Female             0          4356              40  United-States   \n",
       "3  White  Female             0          3900              40  United-States   \n",
       "4  White  Female             0          3900              40  United-States   \n",
       "\n",
       "  income  \n",
       "0  <=50K  \n",
       "1  <=50K  \n",
       "2  <=50K  \n",
       "3  <=50K  \n",
       "4  <=50K  "
      ]
     },
     "execution_count": 5,
     "metadata": {},
     "output_type": "execute_result"
    }
   ],
   "source": [
    "adultincome=pd.read_csv(\"./Resources/adult.csv\")\n",
    "adultincome=adultincome.drop(columns=[\"workclass\",\"occupation\"])\n",
    "adultincome.head(5)"
   ]
  },
  {
   "cell_type": "markdown",
   "metadata": {
    "id": "6_v5ULOg_myC"
   },
   "source": [
    "### Calculate percentage of people in each education category earning less than $50,000 annually"
   ]
  },
  {
   "cell_type": "code",
   "execution_count": 6,
   "metadata": {
    "colab": {
     "base_uri": "https://localhost:8080/"
    },
    "id": "me9PCflO8P-R",
    "outputId": "88cc3024-f2f8-4399-81bc-ad1106d9a10c"
   },
   "outputs": [
    {
     "data": {
      "text/html": [
       "<div>\n",
       "<style scoped>\n",
       "    .dataframe tbody tr th:only-of-type {\n",
       "        vertical-align: middle;\n",
       "    }\n",
       "\n",
       "    .dataframe tbody tr th {\n",
       "        vertical-align: top;\n",
       "    }\n",
       "\n",
       "    .dataframe thead th {\n",
       "        text-align: right;\n",
       "    }\n",
       "</style>\n",
       "<table border=\"1\" class=\"dataframe\">\n",
       "  <thead>\n",
       "    <tr style=\"text-align: right;\">\n",
       "      <th></th>\n",
       "      <th>education</th>\n",
       "      <th>count</th>\n",
       "      <th>percentage</th>\n",
       "    </tr>\n",
       "  </thead>\n",
       "  <tbody>\n",
       "    <tr>\n",
       "      <th>10</th>\n",
       "      <td>Doctorate</td>\n",
       "      <td>107</td>\n",
       "      <td>25.907990</td>\n",
       "    </tr>\n",
       "    <tr>\n",
       "      <th>14</th>\n",
       "      <td>Prof-school</td>\n",
       "      <td>153</td>\n",
       "      <td>26.562500</td>\n",
       "    </tr>\n",
       "    <tr>\n",
       "      <th>12</th>\n",
       "      <td>Masters</td>\n",
       "      <td>764</td>\n",
       "      <td>44.341265</td>\n",
       "    </tr>\n",
       "    <tr>\n",
       "      <th>9</th>\n",
       "      <td>Bachelors</td>\n",
       "      <td>3134</td>\n",
       "      <td>58.524743</td>\n",
       "    </tr>\n",
       "    <tr>\n",
       "      <th>8</th>\n",
       "      <td>Assoc-voc</td>\n",
       "      <td>1021</td>\n",
       "      <td>73.878437</td>\n",
       "    </tr>\n",
       "    <tr>\n",
       "      <th>7</th>\n",
       "      <td>Assoc-acdm</td>\n",
       "      <td>802</td>\n",
       "      <td>75.164011</td>\n",
       "    </tr>\n",
       "    <tr>\n",
       "      <th>15</th>\n",
       "      <td>Some-college</td>\n",
       "      <td>5904</td>\n",
       "      <td>80.976546</td>\n",
       "    </tr>\n",
       "    <tr>\n",
       "      <th>11</th>\n",
       "      <td>HS-grad</td>\n",
       "      <td>8826</td>\n",
       "      <td>84.049138</td>\n",
       "    </tr>\n",
       "    <tr>\n",
       "      <th>2</th>\n",
       "      <td>12th</td>\n",
       "      <td>400</td>\n",
       "      <td>92.378753</td>\n",
       "    </tr>\n",
       "    <tr>\n",
       "      <th>0</th>\n",
       "      <td>10th</td>\n",
       "      <td>871</td>\n",
       "      <td>93.354770</td>\n",
       "    </tr>\n",
       "  </tbody>\n",
       "</table>\n",
       "</div>"
      ],
      "text/plain": [
       "       education  count  percentage\n",
       "10     Doctorate    107   25.907990\n",
       "14   Prof-school    153   26.562500\n",
       "12       Masters    764   44.341265\n",
       "9      Bachelors   3134   58.524743\n",
       "8      Assoc-voc   1021   73.878437\n",
       "7     Assoc-acdm    802   75.164011\n",
       "15  Some-college   5904   80.976546\n",
       "11       HS-grad   8826   84.049138\n",
       "2           12th    400   92.378753\n",
       "0           10th    871   93.354770"
      ]
     },
     "execution_count": 6,
     "metadata": {},
     "output_type": "execute_result"
    }
   ],
   "source": [
    "x = adultincome.loc[adultincome['income'] == '<=50K',[\"income\",\"education\"]]\n",
    "less_than_50k = x.groupby('education').count().reset_index()\n",
    "less_than_50k = less_than_50k.rename({'income':'count'}, axis =1)\n",
    "less_than_50k\n",
    "\n",
    "all_df = adultincome.groupby('education').count().reset_index()\n",
    "all_df = all_df.rename({'income':'count'}, axis=1)\n",
    "\n",
    "less_than_50k['percentage'] = (less_than_50k[\"count\"]/all_df[\"count\"])*100\n",
    "less_than_50k = less_than_50k.sort_values(by='percentage',ascending=True)\n",
    "less_than_50k.head(10)"
   ]
  },
  {
   "cell_type": "code",
   "execution_count": 7,
   "metadata": {
    "colab": {
     "base_uri": "https://localhost:8080/"
    },
    "id": "FOxVneiv8RSy",
    "outputId": "615b3014-daf7-431e-bc4a-b5ae4978250b"
   },
   "outputs": [
    {
     "data": {
      "text/plain": [
       "[Text(0, 0, 'Doctorate'),\n",
       " Text(1, 0, 'Prof-school'),\n",
       " Text(2, 0, 'Masters'),\n",
       " Text(3, 0, 'Bachelors'),\n",
       " Text(4, 0, 'Assoc-voc'),\n",
       " Text(5, 0, 'Assoc-acdm'),\n",
       " Text(6, 0, 'Some-college'),\n",
       " Text(7, 0, 'HS-grad'),\n",
       " Text(8, 0, '12th'),\n",
       " Text(9, 0, '10th'),\n",
       " Text(10, 0, '7th-8th'),\n",
       " Text(11, 0, '9th'),\n",
       " Text(12, 0, '11th'),\n",
       " Text(13, 0, '5th-6th'),\n",
       " Text(14, 0, '1st-4th'),\n",
       " Text(15, 0, 'Preschool')]"
      ]
     },
     "execution_count": 7,
     "metadata": {},
     "output_type": "execute_result"
    },
    {
     "data": {
      "image/png": "[encoded data removed]",
      "text/plain": [
       "<Figure size 972x595.44 with 1 Axes>"
      ]
     },
     "metadata": {},
     "output_type": "display_data"
    }
   ],
   "source": [
    "sns.set(rc={'figure.figsize':(13.5,8.27)})\n",
    "p= sns.barplot(x=\"education\", y=\"percentage\",data=less_than_50k)\n",
    "sns.set(font_scale = 3)\n",
    "p.set_xlabel(\"Educational level\",fontsize=20)\n",
    "p.set_ylabel(\"Percentage of people earning less than 50k USD\",fontsize=20)\n",
    "p.set_title(\"Income vs Education\",fontsize=20)\n",
    "p.set_xticklabels(less_than_50k.education,rotation=90)\n"
   ]
  },
  {
   "cell_type": "markdown",
   "metadata": {
    "id": "cOOqls14AFYO"
   },
   "source": [
    "## Lunch: Standard has higher test scores on average than free/reduced"
   ]
  },
  {
   "cell_type": "code",
   "execution_count": 8,
   "metadata": {
    "colab": {
     "base_uri": "https://localhost:8080/"
    },
    "id": "CriG_E8eApzQ",
    "outputId": "7f54e8af-158b-442d-d566-3804a7e09642"
   },
   "outputs": [
    {
     "data": {
      "text/html": [
       "<div>\n",
       "<style scoped>\n",
       "    .dataframe tbody tr th:only-of-type {\n",
       "        vertical-align: middle;\n",
       "    }\n",
       "\n",
       "    .dataframe tbody tr th {\n",
       "        vertical-align: top;\n",
       "    }\n",
       "\n",
       "    .dataframe thead th {\n",
       "        text-align: right;\n",
       "    }\n",
       "</style>\n",
       "<table border=\"1\" class=\"dataframe\">\n",
       "  <thead>\n",
       "    <tr style=\"text-align: right;\">\n",
       "      <th></th>\n",
       "      <th>lunch</th>\n",
       "      <th>average</th>\n",
       "    </tr>\n",
       "  </thead>\n",
       "  <tbody>\n",
       "    <tr>\n",
       "      <th>0</th>\n",
       "      <td>free/reduced</td>\n",
       "      <td>62.199061</td>\n",
       "    </tr>\n",
       "    <tr>\n",
       "      <th>1</th>\n",
       "      <td>standard</td>\n",
       "      <td>70.837209</td>\n",
       "    </tr>\n",
       "  </tbody>\n",
       "</table>\n",
       "</div>"
      ],
      "text/plain": [
       "          lunch    average\n",
       "0  free/reduced  62.199061\n",
       "1      standard  70.837209"
      ]
     },
     "execution_count": 8,
     "metadata": {},
     "output_type": "execute_result"
    }
   ],
   "source": [
    "df[\"average\"] = (df[\"math score\"] + df[\"reading score\"] + df[\"writing score\"])/3\n",
    "lunch_avg = df.groupby(\"lunch\")[\"average\"].mean().reset_index()\n",
    "lunch_avg.head()"
   ]
  },
  {
   "cell_type": "markdown",
   "metadata": {
    "id": "KGjpbpmoA9bj"
   },
   "source": [
    "## Test Prep: Those who complete the test prep have higher scores on average"
   ]
  },
  {
   "cell_type": "code",
   "execution_count": 9,
   "metadata": {
    "colab": {
     "base_uri": "https://localhost:8080/"
    },
    "id": "N3rCdXan5Ds-",
    "outputId": "54251c73-d032-4e28-a8fc-aa1916b1ddc2"
   },
   "outputs": [
    {
     "data": {
      "text/html": [
       "<div>\n",
       "<style scoped>\n",
       "    .dataframe tbody tr th:only-of-type {\n",
       "        vertical-align: middle;\n",
       "    }\n",
       "\n",
       "    .dataframe tbody tr th {\n",
       "        vertical-align: top;\n",
       "    }\n",
       "\n",
       "    .dataframe thead th {\n",
       "        text-align: right;\n",
       "    }\n",
       "</style>\n",
       "<table border=\"1\" class=\"dataframe\">\n",
       "  <thead>\n",
       "    <tr style=\"text-align: right;\">\n",
       "      <th></th>\n",
       "      <th>test preparation course</th>\n",
       "      <th>average</th>\n",
       "    </tr>\n",
       "  </thead>\n",
       "  <tbody>\n",
       "    <tr>\n",
       "      <th>0</th>\n",
       "      <td>completed</td>\n",
       "      <td>72.669460</td>\n",
       "    </tr>\n",
       "    <tr>\n",
       "      <th>1</th>\n",
       "      <td>none</td>\n",
       "      <td>65.038941</td>\n",
       "    </tr>\n",
       "  </tbody>\n",
       "</table>\n",
       "</div>"
      ],
      "text/plain": [
       "  test preparation course    average\n",
       "0               completed  72.669460\n",
       "1                    none  65.038941"
      ]
     },
     "execution_count": 9,
     "metadata": {},
     "output_type": "execute_result"
    }
   ],
   "source": [
    "lunch_avg = df.groupby(\"test preparation course\")[\"average\"].mean().reset_index()\n",
    "lunch_avg.head()"
   ]
  },
  {
   "cell_type": "markdown",
   "metadata": {
    "id": "vVgZ5qAwBdka"
   },
   "source": [
    "## Feature engineering "
   ]
  },
  {
   "cell_type": "code",
   "execution_count": 10,
   "metadata": {
    "id": "M42A68WnqvaO"
   },
   "outputs": [],
   "source": [
    "education_dict =  {\"some high school\":0,\"high school\":1, \"some college\":2, \"associate's degree\":3, \"bachelor's degree\":4, \"master's degree\":5}\n",
    "test_prep_dict =  {\"none\":0,\"completed\":1}\n",
    "lunch_dict =  {\"free/reduced\":0,\"standard\":1}\n",
    "\n",
    "df['parental level of education'] = df['parental level of education'].map(education_dict)\n",
    "df['test preparation course'] = df['test preparation course'].map(test_prep_dict)\n",
    "df['lunch'] = df['lunch'].map(lunch_dict)"
   ]
  },
  {
   "cell_type": "code",
   "execution_count": 11,
   "metadata": {
    "colab": {
     "base_uri": "https://localhost:8080/"
    },
    "id": "8uio1NsmNYpu",
    "outputId": "5678ea0e-691c-4add-e039-9fb299568039"
   },
   "outputs": [
    {
     "data": {
      "text/html": [
       "<div>\n",
       "<style scoped>\n",
       "    .dataframe tbody tr th:only-of-type {\n",
       "        vertical-align: middle;\n",
       "    }\n",
       "\n",
       "    .dataframe tbody tr th {\n",
       "        vertical-align: top;\n",
       "    }\n",
       "\n",
       "    .dataframe thead th {\n",
       "        text-align: right;\n",
       "    }\n",
       "</style>\n",
       "<table border=\"1\" class=\"dataframe\">\n",
       "  <thead>\n",
       "    <tr style=\"text-align: right;\">\n",
       "      <th></th>\n",
       "      <th>gender</th>\n",
       "      <th>race/ethnicity</th>\n",
       "      <th>parental level of education</th>\n",
       "      <th>lunch</th>\n",
       "      <th>test preparation course</th>\n",
       "      <th>math score</th>\n",
       "      <th>reading score</th>\n",
       "      <th>writing score</th>\n",
       "      <th>average</th>\n",
       "    </tr>\n",
       "  </thead>\n",
       "  <tbody>\n",
       "    <tr>\n",
       "      <th>0</th>\n",
       "      <td>female</td>\n",
       "      <td>group B</td>\n",
       "      <td>4</td>\n",
       "      <td>1</td>\n",
       "      <td>0</td>\n",
       "      <td>72</td>\n",
       "      <td>72</td>\n",
       "      <td>74</td>\n",
       "      <td>72.666667</td>\n",
       "    </tr>\n",
       "    <tr>\n",
       "      <th>1</th>\n",
       "      <td>female</td>\n",
       "      <td>group C</td>\n",
       "      <td>2</td>\n",
       "      <td>1</td>\n",
       "      <td>1</td>\n",
       "      <td>69</td>\n",
       "      <td>90</td>\n",
       "      <td>88</td>\n",
       "      <td>82.333333</td>\n",
       "    </tr>\n",
       "    <tr>\n",
       "      <th>2</th>\n",
       "      <td>female</td>\n",
       "      <td>group B</td>\n",
       "      <td>5</td>\n",
       "      <td>1</td>\n",
       "      <td>0</td>\n",
       "      <td>90</td>\n",
       "      <td>95</td>\n",
       "      <td>93</td>\n",
       "      <td>92.666667</td>\n",
       "    </tr>\n",
       "    <tr>\n",
       "      <th>3</th>\n",
       "      <td>male</td>\n",
       "      <td>group A</td>\n",
       "      <td>3</td>\n",
       "      <td>0</td>\n",
       "      <td>0</td>\n",
       "      <td>47</td>\n",
       "      <td>57</td>\n",
       "      <td>44</td>\n",
       "      <td>49.333333</td>\n",
       "    </tr>\n",
       "    <tr>\n",
       "      <th>4</th>\n",
       "      <td>male</td>\n",
       "      <td>group C</td>\n",
       "      <td>2</td>\n",
       "      <td>1</td>\n",
       "      <td>0</td>\n",
       "      <td>76</td>\n",
       "      <td>78</td>\n",
       "      <td>75</td>\n",
       "      <td>76.333333</td>\n",
       "    </tr>\n",
       "  </tbody>\n",
       "</table>\n",
       "</div>"
      ],
      "text/plain": [
       "   gender race/ethnicity  parental level of education  lunch  \\\n",
       "0  female        group B                            4      1   \n",
       "1  female        group C                            2      1   \n",
       "2  female        group B                            5      1   \n",
       "3    male        group A                            3      0   \n",
       "4    male        group C                            2      1   \n",
       "\n",
       "   test preparation course  math score  reading score  writing score  \\\n",
       "0                        0          72             72             74   \n",
       "1                        1          69             90             88   \n",
       "2                        0          90             95             93   \n",
       "3                        0          47             57             44   \n",
       "4                        0          76             78             75   \n",
       "\n",
       "     average  \n",
       "0  72.666667  \n",
       "1  82.333333  \n",
       "2  92.666667  \n",
       "3  49.333333  \n",
       "4  76.333333  "
      ]
     },
     "execution_count": 11,
     "metadata": {},
     "output_type": "execute_result"
    }
   ],
   "source": [
    "df.head()"
   ]
  },
  {
   "cell_type": "markdown",
   "metadata": {
    "id": "Z9wbJOppxL6b"
   },
   "source": [
    "## Linear Regression Predicting Scores"
   ]
  },
  {
   "cell_type": "markdown",
   "metadata": {
    "id": "HfM6gbi1xmHh"
   },
   "source": [
    "### Predicting Math Score"
   ]
  },
  {
   "cell_type": "code",
   "execution_count": 12,
   "metadata": {
    "colab": {
     "base_uri": "https://localhost:8080/"
    },
    "id": "MeRU8veDVp7t",
    "outputId": "21dc2839-3dd4-4af9-b121-c3ae4d3693a2"
   },
   "outputs": [
    {
     "name": "stdout",
     "output_type": "stream",
     "text": [
      "Model Score: 0.7107651093264837\n"
     ]
    },
    {
     "data": {
      "text/html": [
       "<div>\n",
       "<style scoped>\n",
       "    .dataframe tbody tr th:only-of-type {\n",
       "        vertical-align: middle;\n",
       "    }\n",
       "\n",
       "    .dataframe tbody tr th {\n",
       "        vertical-align: top;\n",
       "    }\n",
       "\n",
       "    .dataframe thead th {\n",
       "        text-align: right;\n",
       "    }\n",
       "</style>\n",
       "<table border=\"1\" class=\"dataframe\">\n",
       "  <thead>\n",
       "    <tr style=\"text-align: right;\">\n",
       "      <th></th>\n",
       "      <th>ypred</th>\n",
       "      <th>actual</th>\n",
       "    </tr>\n",
       "  </thead>\n",
       "  <tbody>\n",
       "    <tr>\n",
       "      <th>0</th>\n",
       "      <td>81.572058</td>\n",
       "      <td>72</td>\n",
       "    </tr>\n",
       "    <tr>\n",
       "      <th>1</th>\n",
       "      <td>61.786947</td>\n",
       "      <td>69</td>\n",
       "    </tr>\n",
       "    <tr>\n",
       "      <th>2</th>\n",
       "      <td>71.256853</td>\n",
       "      <td>90</td>\n",
       "    </tr>\n",
       "    <tr>\n",
       "      <th>3</th>\n",
       "      <td>68.540244</td>\n",
       "      <td>47</td>\n",
       "    </tr>\n",
       "    <tr>\n",
       "      <th>4</th>\n",
       "      <td>78.025463</td>\n",
       "      <td>76</td>\n",
       "    </tr>\n",
       "  </tbody>\n",
       "</table>\n",
       "</div>"
      ],
      "text/plain": [
       "       ypred  actual\n",
       "0  81.572058      72\n",
       "1  61.786947      69\n",
       "2  71.256853      90\n",
       "3  68.540244      47\n",
       "4  78.025463      76"
      ]
     },
     "execution_count": 12,
     "metadata": {},
     "output_type": "execute_result"
    }
   ],
   "source": [
    "X = df[['parental level of education', 'test preparation course', 'reading score', 'writing score', 'lunch']]\n",
    "y = df['math score']\n",
    "\n",
    "X_train, X_test, y_train, y_test = train_test_split(X, y, test_size=0.25, random_state=42)\n",
    "model = LinearRegression()\n",
    "\n",
    "model.fit(X_train, y_train)\n",
    "\n",
    "y_pred = model.predict(X_test)\n",
    "\n",
    "score = model.score(X_test, y_test)\n",
    "d = {'ypred': y_pred, 'actual': df['math score'].head(250)}\n",
    "pred_df = pd.DataFrame(data=d)\n",
    "\n",
    "print (\"Model Score:\", score)\n",
    "pred_df.head()"
   ]
  },
  {
   "cell_type": "markdown",
   "metadata": {
    "id": "11-jZRvYyKQL"
   },
   "source": [
    "### Predicting Reading Scores"
   ]
  },
  {
   "cell_type": "code",
   "execution_count": 13,
   "metadata": {
    "colab": {
     "base_uri": "https://localhost:8080/"
    },
    "id": "JZCfrtuTcpqm",
    "outputId": "dd2a8dab-00b6-4fef-869a-785ca3353aee"
   },
   "outputs": [
    {
     "name": "stdout",
     "output_type": "stream",
     "text": [
      "Model Score: 0.92138008166192\n"
     ]
    }
   ],
   "source": [
    "X = df[['parental level of education', 'test preparation course', 'math score', 'writing score']]\n",
    "y = df['reading score']\n",
    "\n",
    "X_train, X_test, y_train, y_test = train_test_split(X, y, test_size=0.25, random_state=42)\n",
    "model = LinearRegression()\n",
    "\n",
    "model.fit(X_train, y_train)\n",
    "\n",
    "y_pred = model.predict(X_test)\n",
    "\n",
    "print (\"Model Score:\", model.score(X_test, y_test))"
   ]
  },
  {
   "cell_type": "markdown",
   "metadata": {
    "id": "kpXCq53Wyljr"
   },
   "source": [
    "### Predicting Writing Score "
   ]
  },
  {
   "cell_type": "code",
   "execution_count": 14,
   "metadata": {
    "colab": {
     "base_uri": "https://localhost:8080/"
    },
    "id": "B9HzmD8vbBFO",
    "outputId": "5f84a792-8ce3-455a-91de-01dd05eb3bc7"
   },
   "outputs": [
    {
     "name": "stdout",
     "output_type": "stream",
     "text": [
      "Model Score: 0.920828263186071\n"
     ]
    }
   ],
   "source": [
    "X = df[['parental level of education', 'test preparation course', 'reading score', 'math score']]\n",
    "y = df['writing score']\n",
    "\n",
    "X_train, X_test, y_train, y_test = train_test_split(X, y, test_size=0.25, random_state=42)\n",
    "model = LinearRegression()\n",
    "\n",
    "model.fit(X_train, y_train)\n",
    "\n",
    "y_pred = model.predict(X_test)\n",
    "\n",
    "print (\"Model Score:\", model.score(X_test, y_test))"
   ]
  },
  {
   "cell_type": "markdown",
   "metadata": {
    "id": "EyEcaSkz1BxV"
   },
   "source": [
    "## Linear Regression Pass/Fail Prediction - Binary Classification "
   ]
  },
  {
   "cell_type": "code",
   "execution_count": 15,
   "metadata": {
    "colab": {
     "base_uri": "https://localhost:8080/"
    },
    "id": "XM40COptcE2F",
    "outputId": "68bd2d5b-ca15-4c35-a484-608a9a609058"
   },
   "outputs": [
    {
     "data": {
      "text/html": [
       "<div>\n",
       "<style scoped>\n",
       "    .dataframe tbody tr th:only-of-type {\n",
       "        vertical-align: middle;\n",
       "    }\n",
       "\n",
       "    .dataframe tbody tr th {\n",
       "        vertical-align: top;\n",
       "    }\n",
       "\n",
       "    .dataframe thead th {\n",
       "        text-align: right;\n",
       "    }\n",
       "</style>\n",
       "<table border=\"1\" class=\"dataframe\">\n",
       "  <thead>\n",
       "    <tr style=\"text-align: right;\">\n",
       "      <th></th>\n",
       "      <th>gender</th>\n",
       "      <th>race/ethnicity</th>\n",
       "      <th>parental level of education</th>\n",
       "      <th>lunch</th>\n",
       "      <th>test preparation course</th>\n",
       "      <th>average</th>\n",
       "      <th>Math_Pass</th>\n",
       "      <th>Reading_Pass</th>\n",
       "      <th>Writing_Pass</th>\n",
       "    </tr>\n",
       "  </thead>\n",
       "  <tbody>\n",
       "    <tr>\n",
       "      <th>0</th>\n",
       "      <td>female</td>\n",
       "      <td>group B</td>\n",
       "      <td>4</td>\n",
       "      <td>1</td>\n",
       "      <td>0</td>\n",
       "      <td>72.666667</td>\n",
       "      <td>1</td>\n",
       "      <td>1</td>\n",
       "      <td>1</td>\n",
       "    </tr>\n",
       "    <tr>\n",
       "      <th>1</th>\n",
       "      <td>female</td>\n",
       "      <td>group C</td>\n",
       "      <td>2</td>\n",
       "      <td>1</td>\n",
       "      <td>1</td>\n",
       "      <td>82.333333</td>\n",
       "      <td>0</td>\n",
       "      <td>1</td>\n",
       "      <td>1</td>\n",
       "    </tr>\n",
       "    <tr>\n",
       "      <th>2</th>\n",
       "      <td>female</td>\n",
       "      <td>group B</td>\n",
       "      <td>5</td>\n",
       "      <td>1</td>\n",
       "      <td>0</td>\n",
       "      <td>92.666667</td>\n",
       "      <td>1</td>\n",
       "      <td>1</td>\n",
       "      <td>1</td>\n",
       "    </tr>\n",
       "    <tr>\n",
       "      <th>3</th>\n",
       "      <td>male</td>\n",
       "      <td>group A</td>\n",
       "      <td>3</td>\n",
       "      <td>0</td>\n",
       "      <td>0</td>\n",
       "      <td>49.333333</td>\n",
       "      <td>0</td>\n",
       "      <td>0</td>\n",
       "      <td>0</td>\n",
       "    </tr>\n",
       "    <tr>\n",
       "      <th>4</th>\n",
       "      <td>male</td>\n",
       "      <td>group C</td>\n",
       "      <td>2</td>\n",
       "      <td>1</td>\n",
       "      <td>0</td>\n",
       "      <td>76.333333</td>\n",
       "      <td>1</td>\n",
       "      <td>1</td>\n",
       "      <td>1</td>\n",
       "    </tr>\n",
       "  </tbody>\n",
       "</table>\n",
       "</div>"
      ],
      "text/plain": [
       "   gender race/ethnicity  parental level of education  lunch  \\\n",
       "0  female        group B                            4      1   \n",
       "1  female        group C                            2      1   \n",
       "2  female        group B                            5      1   \n",
       "3    male        group A                            3      0   \n",
       "4    male        group C                            2      1   \n",
       "\n",
       "   test preparation course    average  Math_Pass  Reading_Pass  Writing_Pass  \n",
       "0                        0  72.666667          1             1             1  \n",
       "1                        1  82.333333          0             1             1  \n",
       "2                        0  92.666667          1             1             1  \n",
       "3                        0  49.333333          0             0             0  \n",
       "4                        0  76.333333          1             1             1  "
      ]
     },
     "execution_count": 15,
     "metadata": {},
     "output_type": "execute_result"
    }
   ],
   "source": [
    "passFail = lambda x: 1 if x >= 70 else 0\n",
    "df[\"Math_Pass\"] = df[\"math score\"].map(passFail)\n",
    "df[\"Reading_Pass\"] = df[\"reading score\"].map(passFail)\n",
    "df[\"Writing_Pass\"] = df[\"writing score\"].map(passFail)\n",
    "df = df.drop(columns={\"math score\", \"reading score\", \"writing score\"})\n",
    "model_results = {}\n",
    "df.head()"
   ]
  },
  {
   "cell_type": "markdown",
   "metadata": {
    "id": "6Sghnx251SG-"
   },
   "source": [
    "### Predict Math Pass or Fail "
   ]
  },
  {
   "cell_type": "code",
   "execution_count": 16,
   "metadata": {
    "colab": {
     "base_uri": "https://localhost:8080/"
    },
    "id": "l-gQkprCDkNS",
    "outputId": "46e6fdfa-9585-40c3-abc4-e3697c11df6b"
   },
   "outputs": [
    {
     "name": "stdout",
     "output_type": "stream",
     "text": [
      "Cross-validated scores:  [0.32771662 0.34717514 0.43483976 0.3012997  0.33108898 0.38317729]\n",
      "Normal model score:  0.33780467229367817\n"
     ]
    }
   ],
   "source": [
    "X = df[['parental level of education', 'test preparation course', 'Reading_Pass', 'Writing_Pass', 'lunch']]\n",
    "y = df['Math_Pass']\n",
    "\n",
    "X_train, X_test, y_train, y_test = train_test_split(X, y, test_size=0.25, random_state=42)\n",
    "model = LinearRegression()\n",
    "model.fit(X_train, y_train)\n",
    "\n",
    "y_pred = model.predict(X_test)\n",
    "model_results[\"LR Math Pass/Fail\"] = round(model.score(X_test, y_test), 3)\n",
    "\n",
    "linreg = LinearRegression()\n",
    "scores = cross_val_score(linreg, X_train, y_train, cv=6)\n",
    "print (\"Cross-validated scores: \", scores)\n",
    "print(\"Normal model score: \", model.score(X_test, y_test))"
   ]
  },
  {
   "cell_type": "markdown",
   "metadata": {
    "id": "NtLGRL1c1ogg"
   },
   "source": [
    "### Predict Writing Pass or Fail"
   ]
  },
  {
   "cell_type": "code",
   "execution_count": 17,
   "metadata": {
    "colab": {
     "base_uri": "https://localhost:8080/"
    },
    "id": "E0wg7IHAEjyW",
    "outputId": "864af801-0eb1-4880-9855-d553537b4613"
   },
   "outputs": [
    {
     "name": "stdout",
     "output_type": "stream",
     "text": [
      "Cross-validated scores:  [0.7744473  0.58874024 0.77731286 0.54221103 0.67986817 0.68678477]\n",
      "Normal model score:  0.6584076025264535\n"
     ]
    }
   ],
   "source": [
    "X = df[['parental level of education', 'test preparation course', 'Reading_Pass', 'Math_Pass', 'lunch']]\n",
    "\n",
    "y = df['Writing_Pass']\n",
    "\n",
    "X_train, X_test, y_train, y_test = train_test_split(X, y, test_size=0.25, random_state=42)\n",
    "model = LinearRegression()\n",
    "\n",
    "model.fit(X_train, y_train)\n",
    "\n",
    "y_pred = model.predict(X_test)\n",
    "\n",
    "model_results[\"LR Writing Pass/Fail\"] = round(model.score(X_test, y_test), 3)\n",
    "linreg = LinearRegression()\n",
    "scores = cross_val_score(linreg, X_train, y_train, cv=6)\n",
    "print (\"Cross-validated scores: \", scores)\n",
    "print(\"Normal model score: \", model.score(X_test, y_test))"
   ]
  },
  {
   "cell_type": "markdown",
   "metadata": {
    "id": "elxxOTZ-151Q"
   },
   "source": [
    "### Predict Reading Pass or Fail"
   ]
  },
  {
   "cell_type": "code",
   "execution_count": 18,
   "metadata": {
    "colab": {
     "base_uri": "https://localhost:8080/"
    },
    "id": "YGU1xISkE6mI",
    "outputId": "365b8d98-9bbc-4fde-c740-0b0ce8be3a55"
   },
   "outputs": [
    {
     "name": "stdout",
     "output_type": "stream",
     "text": [
      "Cross-validated scores:  [0.75593135 0.58326605 0.75732455 0.56870072 0.68523321 0.69125223]\n",
      "Normal model score:  0.6757196962124029\n"
     ]
    }
   ],
   "source": [
    "X = df[['parental level of education', 'test preparation course', 'Writing_Pass', 'Math_Pass', 'lunch']]\n",
    "y = df['Reading_Pass']\n",
    "\n",
    "X_train, X_test, y_train, y_test = train_test_split(X, y, test_size=0.25, random_state=42)\n",
    "model = LinearRegression()\n",
    "model.fit(X_train, y_train)\n",
    "\n",
    "y_pred = model.predict(X_test)\n",
    "\n",
    "model_results[\"LR Reading Pass/Fail\"] = round(model.score(X_test, y_test), 3)\n",
    "linreg = LinearRegression()\n",
    "scores = cross_val_score(linreg, X_train, y_train, cv=6)\n",
    "print (\"Cross-validated scores: \", scores)\n",
    "print(\"Normal model score: \", model.score(X_test, y_test))"
   ]
  },
  {
   "cell_type": "markdown",
   "metadata": {
    "id": "zol9ujNJeVBb"
   },
   "source": [
    "# **Other Models for predicting if a student will pass or not pass Math, Reading or Writting**"
   ]
  },
  {
   "cell_type": "markdown",
   "metadata": {
    "id": "GlKtIX1mNbgs"
   },
   "source": [
    "# Models for Math Pass and Not Pass"
   ]
  },
  {
   "cell_type": "code",
   "execution_count": 19,
   "metadata": {
    "colab": {
     "base_uri": "https://localhost:8080/"
    },
    "id": "jQhP-z4WWl5i",
    "outputId": "b3f99971-3231-4fe8-8660-6bc73ae50eaa"
   },
   "outputs": [
    {
     "data": {
      "text/plain": [
       "0    591\n",
       "1    409\n",
       "Name: Math_Pass, dtype: int64"
      ]
     },
     "execution_count": 19,
     "metadata": {},
     "output_type": "execute_result"
    }
   ],
   "source": [
    "df[\"Math_Pass\"].value_counts()"
   ]
  },
  {
   "cell_type": "markdown",
   "metadata": {
    "id": "F5dJ4pDni-9N"
   },
   "source": [
    "## Nearest Neighboors"
   ]
  },
  {
   "cell_type": "code",
   "execution_count": 20,
   "metadata": {
    "id": "GBVHOfonOKsW"
   },
   "outputs": [],
   "source": [
    "df_new = df.drop(columns=['gender', 'race/ethnicity', 'average'])\n",
    "y = df_new.Math_Pass\n",
    "X = df_new.drop(['Math_Pass'], axis=1)\n",
    "train_X, test_X, train_y, test_y = train_test_split(X, y, test_size=0.25, random_state=123)"
   ]
  },
  {
   "cell_type": "code",
   "execution_count": 21,
   "metadata": {
    "colab": {
     "base_uri": "https://localhost:8080/"
    },
    "id": "5rUC6ITGc2Gr",
    "outputId": "4b27bff1-286c-409c-d8b1-7ea11f0f6299"
   },
   "outputs": [
    {
     "data": {
      "text/plain": [
       "KNeighborsClassifier()"
      ]
     },
     "execution_count": 21,
     "metadata": {},
     "output_type": "execute_result"
    }
   ],
   "source": [
    "nn_clf = KNeighborsClassifier()\n",
    "nn_clf.fit(train_X, train_y)"
   ]
  },
  {
   "cell_type": "code",
   "execution_count": 22,
   "metadata": {
    "colab": {
     "base_uri": "https://localhost:8080/"
    },
    "id": "ExsvvdukdVh9",
    "outputId": "fdc909d5-735b-450d-b675-1e224c3b5bad"
   },
   "outputs": [
    {
     "name": "stdout",
     "output_type": "stream",
     "text": [
      "              precision    recall  f1-score   support\n",
      "\n",
      "           0       0.79      0.81      0.80       139\n",
      "           1       0.76      0.73      0.74       111\n",
      "\n",
      "    accuracy                           0.78       250\n",
      "   macro avg       0.77      0.77      0.77       250\n",
      "weighted avg       0.78      0.78      0.78       250\n",
      "\n"
     ]
    }
   ],
   "source": [
    "y_pred_nn = nn_clf.predict(test_X)\n",
    "print(classification_report(test_y, y_pred_nn))"
   ]
  },
  {
   "cell_type": "markdown",
   "metadata": {
    "id": "ca-zV1p9gLVH"
   },
   "source": [
    "For 0 (did not pass):\n",
    "- 79% precision: out of the students we predicted will not pass, 79% of them actually did not\n",
    "- 81% recall: out of the students who actually did not pass, 81% of them did we predict would not pass\n",
    "- 80% f1-score: the harmonic mean rather than the normal mean of precision and recall for not pass\n",
    "\n",
    "For 1 (pass):\n",
    "- 76% precision: out of the students we predicted will pass, 76% of them actually did\n",
    "- 73% recall: out of the students who actually did pass, 73% of them did we predict would pass\n",
    "- 74% f1-score: the harmonic mean rather than the normal mean of precision and recall for pass\n",
    "\n",
    "In general, the model preformed better on predicting the students who actually did not pass as seen in the higher recall and f1-score."
   ]
  },
  {
   "cell_type": "code",
   "execution_count": 23,
   "metadata": {
    "colab": {
     "base_uri": "https://localhost:8080/"
    },
    "id": "O9FGPv6ChSCR",
    "outputId": "3e9f6375-bc46-4e38-c0ef-50e2d0f0979a"
   },
   "outputs": [
    {
     "name": "stdout",
     "output_type": "stream",
     "text": [
      "Test set accuracy: 68.40%\n"
     ]
    }
   ],
   "source": [
    "knn = KNeighborsClassifier(n_neighbors=1)\n",
    "knn.fit(train_X, train_y)\n",
    "\n",
    "preds = knn.predict(test_X)\n",
    "\n",
    "acc = knn.score(test_X, test_y)\n",
    "model_results[\"NN Math Pass/Fail\"] = acc\n",
    "print(f'Test set accuracy: {100*acc:.2f}%')"
   ]
  },
  {
   "cell_type": "markdown",
   "metadata": {
    "id": "o73zUH0Ri5O7"
   },
   "source": [
    "## XGBoost"
   ]
  },
  {
   "cell_type": "code",
   "execution_count": 24,
   "metadata": {
    "id": "qDBuPin5hv9n"
   },
   "outputs": [],
   "source": [
    "df_encoded = df_new\n",
    "from sklearn.model_selection import train_test_split\n",
    "y = df_encoded.Math_Pass\n",
    "X = df_encoded.drop(['Math_Pass'], axis=1)\n",
    "train_X, test_X, train_y, test_y = train_test_split(X, y, test_size=0.25, random_state=123)"
   ]
  },
  {
   "cell_type": "code",
   "execution_count": 25,
   "metadata": {
    "id": "K4c6B5gohz8M"
   },
   "outputs": [
    {
     "name": "stderr",
     "output_type": "stream",
     "text": [
      "C:\\Users\\Kyle Moses\\anaconda3\\lib\\site-packages\\xgboost\\sklearn.py:1224: UserWarning: The use of label encoder in XGBClassifier is deprecated and will be removed in a future release. To remove this warning, do the following: 1) Pass option use_label_encoder=False when constructing XGBClassifier object; and 2) Encode your labels (y) as integers starting with 0, i.e. 0, 1, 2, ..., [num_class - 1].\n",
      "  warnings.warn(label_encoder_deprecation_msg, UserWarning)\n"
     ]
    },
    {
     "name": "stdout",
     "output_type": "stream",
     "text": [
      "[14:21:59] WARNING: C:/Users/Administrator/workspace/xgboost-win64_release_1.5.0/src/learner.cc:1115: Starting in XGBoost 1.3.0, the default evaluation metric used with the objective 'binary:logistic' was changed from 'error' to 'logloss'. Explicitly set eval_metric if you'd like to restore the old behavior.\n"
     ]
    }
   ],
   "source": [
    "import xgboost as xgb\n",
    "model = xgb.XGBClassifier()\n",
    "train_model = model.fit(train_X, train_y)"
   ]
  },
  {
   "cell_type": "code",
   "execution_count": 26,
   "metadata": {
    "colab": {
     "base_uri": "https://localhost:8080/"
    },
    "id": "Sw3noe8ph7bV",
    "outputId": "a58b89c3-f2d9-4afb-e50b-990bc30a43d7"
   },
   "outputs": [
    {
     "name": "stdout",
     "output_type": "stream",
     "text": [
      "Accuracy for model: 77.60\n"
     ]
    }
   ],
   "source": [
    "from sklearn.metrics import accuracy_score\n",
    "pred2 = model.predict(test_X)\n",
    "model_results[\"XG Math Pass/Fail\"] = accuracy_score(test_y, pred2)\n",
    "print(\"Accuracy for model: %.2f\" % (accuracy_score(test_y, pred2) * 100))"
   ]
  },
  {
   "cell_type": "code",
   "execution_count": 27,
   "metadata": {
    "id": "AyxOZoxQh_lN"
   },
   "outputs": [],
   "source": [
    "featuredf = pd.DataFrame(model.feature_importances_, train_X.columns)   #This makes it in order\n",
    "featuredf = featuredf.sort_values(by=0, ascending=False)"
   ]
  },
  {
   "cell_type": "code",
   "execution_count": 29,
   "metadata": {
    "colab": {
     "base_uri": "https://localhost:8080/",
     "height": 551
    },
    "id": "DEC_Muk0iBWj",
    "outputId": "5a6a024c-1dde-4c7d-ed71-6917798e4273"
   },
   "outputs": [
    {
     "data": {
      "text/plain": [
       "Text(0.5, 1.0, 'Model Features')"
      ]
     },
     "execution_count": 29,
     "metadata": {},
     "output_type": "execute_result"
    },
    {
     "data": {
      "image/png": "[encoded data removed]",
      "text/plain": [
       "<Figure size 1800x576 with 1 Axes>"
      ]
     },
     "metadata": {},
     "output_type": "display_data"
    }
   ],
   "source": [
    "plt.figure(figsize=(25, 8))\n",
    "\n",
    "x = featuredf.index\n",
    "y = featuredf[0]\n",
    "\n",
    "plt.bar(x, y)\n",
    "plt.xticks(rotation=45, fontsize=18)\n",
    "plt.xticks([0,1,2,3,4], ['parental_level_of_education','lunch','test_preparation_course','Reading_Pass','Writing_Pass'], fontsize =16)\n",
    "\n",
    "plt.ylabel('Importance', fontsize =18)\n",
    "plt.title('Model Features', fontsize =20)"
   ]
  },
  {
   "cell_type": "code",
   "execution_count": 30,
   "metadata": {
    "colab": {
     "base_uri": "https://localhost:8080/"
    },
    "id": "Pb9lld4IY5N5",
    "outputId": "a5d056c6-afbd-476f-89e1-9990f1412738"
   },
   "outputs": [
    {
     "data": {
      "text/plain": [
       "LogisticRegression(max_iter=10000)"
      ]
     },
     "execution_count": 30,
     "metadata": {},
     "output_type": "execute_result"
    }
   ],
   "source": [
    "clf = LogisticRegression(max_iter=10000)\n",
    "X_scaled = preprocessing.scale(train_X)\n",
    "scaler = preprocessing.StandardScaler().fit(train_X)\n",
    "scaler\n",
    "StandardScaler()\n",
    "min_max_scaler = preprocessing.MinMaxScaler()\n",
    "train_X_minmax = min_max_scaler.fit_transform(train_X)\n",
    "train_X_minmax\n",
    "clf.fit(train_X, train_y)"
   ]
  },
  {
   "cell_type": "code",
   "execution_count": 31,
   "metadata": {
    "colab": {
     "base_uri": "https://localhost:8080/"
    },
    "id": "Zi-nBstxY71m",
    "outputId": "fbbe21cf-8d93-4164-b0a2-b54dd0bc93d0"
   },
   "outputs": [
    {
     "name": "stdout",
     "output_type": "stream",
     "text": [
      "              precision    recall  f1-score   support\n",
      "\n",
      "           0       0.85      0.78      0.81       139\n",
      "           1       0.75      0.83      0.79       111\n",
      "\n",
      "    accuracy                           0.80       250\n",
      "   macro avg       0.80      0.80      0.80       250\n",
      "weighted avg       0.80      0.80      0.80       250\n",
      "\n"
     ]
    }
   ],
   "source": [
    "y_pred = clf.predict(test_X)\n",
    "print(classification_report(test_y, y_pred))"
   ]
  },
  {
   "cell_type": "markdown",
   "metadata": {
    "id": "bBjqyuhbZKhY"
   },
   "source": [
    "For 0 (did not pass):\n",
    "- 85% precision: out of the students we predicted will not pass, 85% of them actually did not\n",
    "- 78% recall: out of the students who actually did not pass, 78% of them did we predict would not pass\n",
    "- 81% f1-score: the harmonic mean rather than the normal mean of precision and recall for not pass\n",
    "\n",
    "For 1 (pass):\n",
    "- 75% precision: out of the students we predicted will pass, 75% of them actually did\n",
    "- 83% recall: out of the students who actually did pass, 83% of them did we predict would pass\n",
    "- 79% f1-score: the harmonic mean rather than the normal mean of precision and recall for pass\n",
    "\n",
    "In general, the model preformed better on predicting the students who actually did not pass as seen in the higher recall and f1-score."
   ]
  },
  {
   "cell_type": "markdown",
   "metadata": {
    "id": "SVS_0pERjqsY"
   },
   "source": [
    "# Models for Reading Pass and Not Pass"
   ]
  },
  {
   "cell_type": "code",
   "execution_count": 32,
   "metadata": {
    "colab": {
     "base_uri": "https://localhost:8080/"
    },
    "id": "bHcqtoPbWxmy",
    "outputId": "5faf2404-bf32-4c18-e561-e83ee4222378"
   },
   "outputs": [
    {
     "data": {
      "text/plain": [
       "1    513\n",
       "0    487\n",
       "Name: Reading_Pass, dtype: int64"
      ]
     },
     "execution_count": 32,
     "metadata": {},
     "output_type": "execute_result"
    }
   ],
   "source": [
    "df[\"Reading_Pass\"].value_counts()"
   ]
  },
  {
   "cell_type": "markdown",
   "metadata": {
    "id": "zHjF3niKlDnO"
   },
   "source": [
    "## Nearest Neighboors"
   ]
  },
  {
   "cell_type": "code",
   "execution_count": 33,
   "metadata": {
    "id": "ML9fVqcwj81p"
   },
   "outputs": [],
   "source": [
    "y = df_new.Reading_Pass\n",
    "X = df_new.drop(['Reading_Pass'], axis=1)\n",
    "train_X, test_X, train_y, test_y = train_test_split(X, y, test_size=0.25, random_state=123)"
   ]
  },
  {
   "cell_type": "code",
   "execution_count": 34,
   "metadata": {
    "colab": {
     "base_uri": "https://localhost:8080/"
    },
    "id": "ZqHkEKr-kADH",
    "outputId": "63fd1964-6a4b-48db-a38b-5f65060df443"
   },
   "outputs": [
    {
     "data": {
      "text/plain": [
       "KNeighborsClassifier()"
      ]
     },
     "execution_count": 34,
     "metadata": {},
     "output_type": "execute_result"
    }
   ],
   "source": [
    "nn_clf = KNeighborsClassifier()\n",
    "nn_clf.fit(train_X, train_y)"
   ]
  },
  {
   "cell_type": "code",
   "execution_count": 35,
   "metadata": {
    "colab": {
     "base_uri": "https://localhost:8080/"
    },
    "id": "LPymqXsBkBy0",
    "outputId": "532bfe98-90fb-4faa-cffb-e466b0d22d20"
   },
   "outputs": [
    {
     "name": "stdout",
     "output_type": "stream",
     "text": [
      "              precision    recall  f1-score   support\n",
      "\n",
      "           0       0.81      0.95      0.88       111\n",
      "           1       0.95      0.83      0.88       139\n",
      "\n",
      "    accuracy                           0.88       250\n",
      "   macro avg       0.88      0.89      0.88       250\n",
      "weighted avg       0.89      0.88      0.88       250\n",
      "\n"
     ]
    }
   ],
   "source": [
    "y_pred_nn = nn_clf.predict(test_X)\n",
    "print(classification_report(test_y, y_pred_nn))"
   ]
  },
  {
   "cell_type": "markdown",
   "metadata": {
    "id": "8N3Epv5JcuYR"
   },
   "source": [
    "For 0 (did not pass):\n",
    "- 81% precision: out of the students we predicted will not pass, 81% of them actually did not\n",
    "- 95% recall: out of the students who actually did not pass, 95% of them did we predict would not pass\n",
    "- 88% f1-score: the harmonic mean rather than the normal mean of precision and recall for not pass\n",
    "\n",
    "For 1 (pass):\n",
    "- 95% precision: out of the students we predicted will pass, 95% of them actually did\n",
    "- 83% recall: out of the students who actually did pass, 83% of them did we predict would pass\n",
    "- 88% f1-score: the harmonic mean rather than the normal mean of precision and recall for pass\n",
    "\n",
    "In general, the model preformed better on predicting the students who actually did not pass as seen in the higher recall and f1-score."
   ]
  },
  {
   "cell_type": "code",
   "execution_count": 36,
   "metadata": {
    "colab": {
     "base_uri": "https://localhost:8080/"
    },
    "id": "sDzo0lOgkDhu",
    "outputId": "bb46b83d-8914-4f8d-d25a-f364063a6b9d"
   },
   "outputs": [
    {
     "name": "stdout",
     "output_type": "stream",
     "text": [
      "Test set accuracy: 91.60%\n"
     ]
    }
   ],
   "source": [
    "knn = KNeighborsClassifier(n_neighbors=1)\n",
    "knn.fit(train_X, train_y)\n",
    "\n",
    "preds = knn.predict(test_X)\n",
    "\n",
    "acc = knn.score(test_X, test_y)\n",
    "model_results['NN Reading Pass/Fail'] = acc\n",
    "print(f'Test set accuracy: {100*acc:.2f}%')"
   ]
  },
  {
   "cell_type": "markdown",
   "metadata": {
    "id": "7Ht4DlZVlMSD"
   },
   "source": [
    "## XGBoost"
   ]
  },
  {
   "cell_type": "code",
   "execution_count": 37,
   "metadata": {
    "id": "YhvTx0dOlMSD"
   },
   "outputs": [],
   "source": [
    "df_encoded = df_new\n",
    "y = df_encoded.Reading_Pass\n",
    "X = df_encoded.drop(['Reading_Pass'], axis=1)\n",
    "train_X, test_X, train_y, test_y = train_test_split(X, y, test_size=0.25, random_state=123)"
   ]
  },
  {
   "cell_type": "code",
   "execution_count": 38,
   "metadata": {
    "id": "rSKEDxWxlMSD"
   },
   "outputs": [
    {
     "name": "stderr",
     "output_type": "stream",
     "text": [
      "C:\\Users\\Kyle Moses\\anaconda3\\lib\\site-packages\\xgboost\\sklearn.py:1224: UserWarning: The use of label encoder in XGBClassifier is deprecated and will be removed in a future release. To remove this warning, do the following: 1) Pass option use_label_encoder=False when constructing XGBClassifier object; and 2) Encode your labels (y) as integers starting with 0, i.e. 0, 1, 2, ..., [num_class - 1].\n",
      "  warnings.warn(label_encoder_deprecation_msg, UserWarning)\n"
     ]
    },
    {
     "name": "stdout",
     "output_type": "stream",
     "text": [
      "[14:24:04] WARNING: C:/Users/Administrator/workspace/xgboost-win64_release_1.5.0/src/learner.cc:1115: Starting in XGBoost 1.3.0, the default evaluation metric used with the objective 'binary:logistic' was changed from 'error' to 'logloss'. Explicitly set eval_metric if you'd like to restore the old behavior.\n"
     ]
    }
   ],
   "source": [
    "model = xgb.XGBClassifier()\n",
    "train_model = model.fit(train_X, train_y)"
   ]
  },
  {
   "cell_type": "code",
   "execution_count": 39,
   "metadata": {
    "colab": {
     "base_uri": "https://localhost:8080/"
    },
    "id": "MTD8R_UFlMSE",
    "outputId": "56e52dd5-dc51-4144-d50b-b80816cacd55"
   },
   "outputs": [
    {
     "name": "stdout",
     "output_type": "stream",
     "text": [
      "Accuracy for model: 89.20\n"
     ]
    }
   ],
   "source": [
    "pred2 = model.predict(test_X)\n",
    "model_results['XG Reading Pass/Fail'] = accuracy_score(test_y, pred2)\n",
    "print(\"Accuracy for model: %.2f\" % (accuracy_score(test_y, pred2) * 100))"
   ]
  },
  {
   "cell_type": "code",
   "execution_count": 40,
   "metadata": {
    "id": "Os6mAk6slMSE"
   },
   "outputs": [],
   "source": [
    "featuredf = pd.DataFrame(model.feature_importances_, train_X.columns)\n",
    "featuredf = featuredf.sort_values(by=0, ascending=False)"
   ]
  },
  {
   "cell_type": "code",
   "execution_count": 42,
   "metadata": {
    "colab": {
     "base_uri": "https://localhost:8080/",
     "height": 534
    },
    "id": "XXw2JRculMSE",
    "outputId": "095b4768-5f74-4edf-bca2-70dacb781184"
   },
   "outputs": [
    {
     "data": {
      "image/png": "[encoded data removed]",
      "text/plain": [
       "<Figure size 1800x576 with 1 Axes>"
      ]
     },
     "metadata": {},
     "output_type": "display_data"
    }
   ],
   "source": [
    "plt.figure(figsize=(25, 8))\n",
    "\n",
    "x = featuredf.index\n",
    "y = featuredf[0]\n",
    "\n",
    "plt.bar(x, y)\n",
    "plt.xticks(rotation=45, fontsize=18);\n",
    "plt.xticks([0,1,2,3,4], ['parental_level_of_education','lunch','test_preparation_course','Reading_Pass','Writing_Pass'], fontsize =16)\n",
    "\n",
    "plt.ylabel('Importance', fontsize =18)\n",
    "plt.title('Model Features', fontsize =20);"
   ]
  },
  {
   "cell_type": "code",
   "execution_count": 43,
   "metadata": {
    "colab": {
     "base_uri": "https://localhost:8080/"
    },
    "id": "D4zxVIhh5TOk",
    "outputId": "c2aad9f9-e687-479e-e442-641629f56ff7"
   },
   "outputs": [
    {
     "data": {
      "text/plain": [
       "LogisticRegression(max_iter=10000)"
      ]
     },
     "execution_count": 43,
     "metadata": {},
     "output_type": "execute_result"
    }
   ],
   "source": [
    "clf = LogisticRegression(max_iter=10000)\n",
    "X_scaled = preprocessing.scale(train_X)\n",
    "scaler = preprocessing.StandardScaler().fit(train_X)\n",
    "scaler\n",
    "StandardScaler()\n",
    "min_max_scaler = preprocessing.MinMaxScaler()\n",
    "train_X_minmax = min_max_scaler.fit_transform(train_X)\n",
    "train_X_minmax\n",
    "clf.fit(train_X, train_y)"
   ]
  },
  {
   "cell_type": "code",
   "execution_count": 44,
   "metadata": {
    "colab": {
     "base_uri": "https://localhost:8080/"
    },
    "id": "zRCcZf-s5TOl",
    "outputId": "e2c9173f-79f3-4c1a-a71b-7ba9736711af"
   },
   "outputs": [
    {
     "name": "stdout",
     "output_type": "stream",
     "text": [
      "              precision    recall  f1-score   support\n",
      "\n",
      "           0       0.85      0.96      0.90       111\n",
      "           1       0.97      0.86      0.91       139\n",
      "\n",
      "    accuracy                           0.91       250\n",
      "   macro avg       0.91      0.91      0.91       250\n",
      "weighted avg       0.92      0.91      0.91       250\n",
      "\n"
     ]
    }
   ],
   "source": [
    "y_pred = clf.predict(test_X)\n",
    "print(classification_report(test_y, y_pred))"
   ]
  },
  {
   "cell_type": "markdown",
   "metadata": {
    "id": "vPJJn6O95TOl"
   },
   "source": [
    "For 0 (did not pass):\n",
    "- 85% precision: out of the students we predicted will not pass, 85% of them actually did not\n",
    "- 96% recall: out of the students who actually did not pass, 96% of them did we predict would not pass\n",
    "- 90% f1-score: the harmonic mean rather than the normal mean of precision and recall for not pass\n",
    "\n",
    "For 1 (pass):\n",
    "- 97% precision: out of the students we predicted will pass, 97% of them actually did\n",
    "- 86% recall: out of the students who actually did pass, 86% of them did we predict would pass\n",
    "- 91% f1-score: the harmonic mean rather than the normal mean of precision and recall for pass\n",
    "\n",
    "In general, the model preformed better on predicting the students who actually did not pass as seen in the higher recall and f1-score."
   ]
  },
  {
   "cell_type": "markdown",
   "metadata": {
    "id": "Gi4C8mwzkfOV"
   },
   "source": [
    "# Models for Writing Pass and Not Pass"
   ]
  },
  {
   "cell_type": "code",
   "execution_count": 45,
   "metadata": {
    "colab": {
     "base_uri": "https://localhost:8080/"
    },
    "id": "GPYZduqeW05t",
    "outputId": "e89ce569-7eff-401b-fdc6-617bdba4bc6e"
   },
   "outputs": [
    {
     "data": {
      "text/plain": [
       "0    511\n",
       "1    489\n",
       "Name: Writing_Pass, dtype: int64"
      ]
     },
     "execution_count": 45,
     "metadata": {},
     "output_type": "execute_result"
    }
   ],
   "source": [
    "df[\"Writing_Pass\"].value_counts()"
   ]
  },
  {
   "cell_type": "markdown",
   "metadata": {
    "id": "lneV3hEllHNA"
   },
   "source": [
    "## Nearest Neighboors"
   ]
  },
  {
   "cell_type": "code",
   "execution_count": 46,
   "metadata": {
    "colab": {
     "base_uri": "https://localhost:8080/"
    },
    "id": "plMrZvBBdiqR",
    "outputId": "25f1117c-36f4-40f8-ce4a-1f17aa69f7ca"
   },
   "outputs": [
    {
     "data": {
      "text/plain": [
       "0    511\n",
       "1    489\n",
       "Name: Writing_Pass, dtype: int64"
      ]
     },
     "execution_count": 46,
     "metadata": {},
     "output_type": "execute_result"
    }
   ],
   "source": [
    "df['Writing_Pass'].value_counts()"
   ]
  },
  {
   "cell_type": "code",
   "execution_count": 47,
   "metadata": {
    "id": "bKY53t6TkfOV"
   },
   "outputs": [],
   "source": [
    "y = df_new.Writing_Pass\n",
    "X = df_new.drop(['Writing_Pass'], axis=1)\n",
    "train_X, test_X, train_y, test_y = train_test_split(X, y, test_size=0.25, random_state=123)"
   ]
  },
  {
   "cell_type": "code",
   "execution_count": 48,
   "metadata": {
    "colab": {
     "base_uri": "https://localhost:8080/"
    },
    "id": "DWYlXAiRkfOW",
    "outputId": "ac8fd2f8-a276-43da-b892-ba2e7ec3e494"
   },
   "outputs": [
    {
     "data": {
      "text/plain": [
       "KNeighborsClassifier()"
      ]
     },
     "execution_count": 48,
     "metadata": {},
     "output_type": "execute_result"
    }
   ],
   "source": [
    "nn_clf = KNeighborsClassifier()\n",
    "nn_clf.fit(train_X, train_y)"
   ]
  },
  {
   "cell_type": "code",
   "execution_count": 49,
   "metadata": {
    "colab": {
     "base_uri": "https://localhost:8080/"
    },
    "id": "imJhWnc2kfOW",
    "outputId": "680c3932-77f4-468a-bcdc-ff219fe1e91a"
   },
   "outputs": [
    {
     "name": "stdout",
     "output_type": "stream",
     "text": [
      "              precision    recall  f1-score   support\n",
      "\n",
      "           0       0.93      0.85      0.89       126\n",
      "           1       0.86      0.94      0.90       124\n",
      "\n",
      "    accuracy                           0.89       250\n",
      "   macro avg       0.89      0.89      0.89       250\n",
      "weighted avg       0.90      0.89      0.89       250\n",
      "\n"
     ]
    }
   ],
   "source": [
    "y_pred_nn = nn_clf.predict(test_X)\n",
    "print(classification_report(test_y, y_pred_nn))"
   ]
  },
  {
   "cell_type": "markdown",
   "metadata": {
    "id": "igjQ_Nbsc9EA"
   },
   "source": [
    "For 0 (did not pass):\n",
    "- 93% precision: out of the students we predicted will not pass, 93% of them actually did not\n",
    "- 85% recall: out of the students who actually did not pass, 85% of them did we predict would not pass\n",
    "- 89% f1-score: the harmonic mean rather than the normal mean of precision and recall for not pass\n",
    "\n",
    "For 1 (pass):\n",
    "- 86% precision: out of the students we predicted will pass, 86% of them actually did\n",
    "- 94% recall: out of the students who actually did pass, 94% of them did we predict would pass\n",
    "- 90% f1-score: the harmonic mean rather than the normal mean of precision and recall for pass\n",
    "\n",
    "In general, the model preformed better on predicting the students who actually did not pass as seen in the higher recall and f1-score."
   ]
  },
  {
   "cell_type": "code",
   "execution_count": 50,
   "metadata": {
    "colab": {
     "base_uri": "https://localhost:8080/"
    },
    "id": "scfM2dVQkfOW",
    "outputId": "eeb0a8ad-f96e-4311-f8cc-8bc03c96344c"
   },
   "outputs": [
    {
     "name": "stdout",
     "output_type": "stream",
     "text": [
      "Test set accuracy: 87.60%\n"
     ]
    }
   ],
   "source": [
    "knn = KNeighborsClassifier(n_neighbors=1)\n",
    "knn.fit(train_X, train_y)\n",
    "\n",
    "preds = knn.predict(test_X)\n",
    "\n",
    "acc = knn.score(test_X, test_y)\n",
    "model_results['NN Writing Pass/Fail'] = acc\n",
    "print(f'Test set accuracy: {100*acc:.2f}%')"
   ]
  },
  {
   "cell_type": "markdown",
   "metadata": {
    "id": "_jbmGmGxkszR"
   },
   "source": [
    "## XGBoost"
   ]
  },
  {
   "cell_type": "code",
   "execution_count": 51,
   "metadata": {
    "id": "QKYaV-GdkszS"
   },
   "outputs": [],
   "source": [
    "df_encoded = df_new\n",
    "y = df_encoded.Writing_Pass\n",
    "X = df_encoded.drop(['Writing_Pass'], axis=1)\n",
    "train_X, test_X, train_y, test_y = train_test_split(X, y, test_size=0.25, random_state=123)"
   ]
  },
  {
   "cell_type": "code",
   "execution_count": 52,
   "metadata": {
    "id": "NH5dFTurkszS"
   },
   "outputs": [
    {
     "name": "stderr",
     "output_type": "stream",
     "text": [
      "C:\\Users\\Kyle Moses\\anaconda3\\lib\\site-packages\\xgboost\\sklearn.py:1224: UserWarning: The use of label encoder in XGBClassifier is deprecated and will be removed in a future release. To remove this warning, do the following: 1) Pass option use_label_encoder=False when constructing XGBClassifier object; and 2) Encode your labels (y) as integers starting with 0, i.e. 0, 1, 2, ..., [num_class - 1].\n",
      "  warnings.warn(label_encoder_deprecation_msg, UserWarning)\n"
     ]
    },
    {
     "name": "stdout",
     "output_type": "stream",
     "text": [
      "[14:24:34] WARNING: C:/Users/Administrator/workspace/xgboost-win64_release_1.5.0/src/learner.cc:1115: Starting in XGBoost 1.3.0, the default evaluation metric used with the objective 'binary:logistic' was changed from 'error' to 'logloss'. Explicitly set eval_metric if you'd like to restore the old behavior.\n"
     ]
    }
   ],
   "source": [
    "model = xgb.XGBClassifier()\n",
    "train_model = model.fit(train_X, train_y)"
   ]
  },
  {
   "cell_type": "code",
   "execution_count": 53,
   "metadata": {
    "colab": {
     "base_uri": "https://localhost:8080/"
    },
    "id": "6BPxnTqskszT",
    "outputId": "e881610f-2bff-48d2-c3f6-f8306f170b49"
   },
   "outputs": [
    {
     "name": "stdout",
     "output_type": "stream",
     "text": [
      "Accuracy for model: 90.00\n"
     ]
    }
   ],
   "source": [
    "pred2 = model.predict(test_X)\n",
    "model_results['XG Writing Pass/Fail'] = accuracy_score(test_y, pred2)\n",
    "print(\"Accuracy for model: %.2f\" % (accuracy_score(test_y, pred2) * 100))"
   ]
  },
  {
   "cell_type": "code",
   "execution_count": 54,
   "metadata": {
    "id": "Ov_jQTAzkszT"
   },
   "outputs": [],
   "source": [
    "featuredf = pd.DataFrame(model.feature_importances_, train_X.columns)   #This makes it in order\n",
    "featuredf = featuredf.sort_values(by=0, ascending=False)"
   ]
  },
  {
   "cell_type": "code",
   "execution_count": 56,
   "metadata": {
    "colab": {
     "base_uri": "https://localhost:8080/",
     "height": 534
    },
    "id": "d42qoX4mkszT",
    "outputId": "d6b47912-d59e-4860-9fdf-737a62eea016"
   },
   "outputs": [
    {
     "data": {
      "image/png": "[encoded data removed]",
      "text/plain": [
       "<Figure size 1800x576 with 1 Axes>"
      ]
     },
     "metadata": {},
     "output_type": "display_data"
    }
   ],
   "source": [
    "plt.figure(figsize=(25, 8))\n",
    "\n",
    "x = featuredf.index\n",
    "y = featuredf[0]\n",
    "\n",
    "plt.bar(x, y)\n",
    "plt.xticks(rotation=45, fontsize=18);\n",
    "plt.xticks([0,1,2,3,4], ['parental_level_of_education','lunch','test_preparation_course','Reading_Pass','Writing_Pass'], fontsize =16)\n",
    "\n",
    "plt.ylabel('Importance', fontsize =18)\n",
    "plt.title('Model Features', fontsize =20);"
   ]
  },
  {
   "cell_type": "code",
   "execution_count": 57,
   "metadata": {
    "colab": {
     "base_uri": "https://localhost:8080/"
    },
    "id": "Kzof6n0K5Xb3",
    "outputId": "83b065c1-0eaa-46bf-cf9c-514df0b2ed92"
   },
   "outputs": [
    {
     "data": {
      "text/plain": [
       "LogisticRegression(max_iter=10000)"
      ]
     },
     "execution_count": 57,
     "metadata": {},
     "output_type": "execute_result"
    }
   ],
   "source": [
    "clf = LogisticRegression(max_iter=10000)\n",
    "X_scaled = preprocessing.scale(train_X)\n",
    "scaler = preprocessing.StandardScaler().fit(train_X)\n",
    "scaler\n",
    "StandardScaler()\n",
    "min_max_scaler = preprocessing.MinMaxScaler()\n",
    "train_X_minmax = min_max_scaler.fit_transform(train_X)\n",
    "train_X_minmax\n",
    "clf.fit(train_X, train_y)"
   ]
  },
  {
   "cell_type": "code",
   "execution_count": 58,
   "metadata": {
    "colab": {
     "base_uri": "https://localhost:8080/"
    },
    "id": "cb2KyNgP5Xb3",
    "outputId": "f2386052-34c3-46be-a404-2312701c1301"
   },
   "outputs": [
    {
     "name": "stdout",
     "output_type": "stream",
     "text": [
      "              precision    recall  f1-score   support\n",
      "\n",
      "           0       0.96      0.85      0.90       126\n",
      "           1       0.86      0.97      0.91       124\n",
      "\n",
      "    accuracy                           0.91       250\n",
      "   macro avg       0.91      0.91      0.91       250\n",
      "weighted avg       0.91      0.91      0.91       250\n",
      "\n"
     ]
    }
   ],
   "source": [
    "y_pred = clf.predict(test_X)\n",
    "\n",
    "print(classification_report(test_y, y_pred))"
   ]
  },
  {
   "cell_type": "markdown",
   "metadata": {
    "id": "Ae19nydb5Xb3"
   },
   "source": [
    "For 0 (did not pass):\n",
    "- 96% precision: out of the students we predicted will not pass, 96% of them actually did not\n",
    "- 85% recall: out of the students who actually did not pass, 85% of them did we predict would not pass\n",
    "- 90% f1-score: the harmonic mean rather than the normal mean of precision and recall for not pass\n",
    "\n",
    "For 1 (pass):\n",
    "- 86% precision: out of the students we predicted will pass, 86% of them actually did\n",
    "- 97% recall: out of the students who actually did pass, 97% of them did we predict would pass\n",
    "- 91% f1-score: the harmonic mean rather than the normal mean of precision and recall for pass\n",
    "\n",
    "In general, the model preformed better on predicting the students who actually did not pass as seen in the higher recall and f1-score."
   ]
  },
  {
   "cell_type": "markdown",
   "metadata": {
    "id": "iztpoa1MFvN3"
   },
   "source": [
    "# Conclusion:"
   ]
  },
  {
   "cell_type": "code",
   "execution_count": 59,
   "metadata": {
    "colab": {
     "base_uri": "https://localhost:8080/"
    },
    "id": "oRd1zkOl4t77",
    "outputId": "100fa2be-e687-4872-f099-5d3ea126c8dc"
   },
   "outputs": [
    {
     "name": "stdout",
     "output_type": "stream",
     "text": [
      "LR Math Pass/Fail :  0.338\n",
      "LR Writing Pass/Fail :  0.658\n",
      "LR Reading Pass/Fail :  0.676\n",
      "NN Math Pass/Fail :  0.684\n",
      "XG Math Pass/Fail :  0.776\n",
      "NN Reading Pass/Fail :  0.916\n",
      "XG Reading Pass/Fail :  0.892\n",
      "NN Writing Pass/Fail :  0.876\n",
      "XG Writing Pass/Fail :  0.9\n"
     ]
    }
   ],
   "source": [
    "for k,v in model_results.items():\n",
    "  print (k, \": \", v)"
   ]
  },
  {
   "cell_type": "markdown",
   "metadata": {
    "id": "fmhAzoPCF4y-"
   },
   "source": [
    "### XGBoost was very accurate in predicting whether a child would pass or fail their math exam\n",
    "\n",
    "### Linear regression is a parametric model: it assumes the target variable can be expressed as a linear combination of the independent variables (plus error). \n",
    "\n",
    "### XGBoost is a gradient booster such that the trees are nonparametric: they will approximate any function. Decision trees can capture non-linearity in data"
   ]
  }
 ],
 "metadata": {
  "colab": {
   "collapsed_sections": [
    "0X5bFZHk55qs",
    "XcGooUia9usu",
    "0PwHBgbR_J0Z",
    "6_v5ULOg_myC",
    "cOOqls14AFYO",
    "KGjpbpmoA9bj",
    "vVgZ5qAwBdka",
    "Z9wbJOppxL6b",
    "HfM6gbi1xmHh",
    "11-jZRvYyKQL",
    "EyEcaSkz1BxV",
    "6Sghnx251SG-",
    "NtLGRL1c1ogg",
    "elxxOTZ-151Q"
   ],
   "name": "Main.ipynb",
   "provenance": []
  },
  "kernelspec": {
   "display_name": "Python 3",
   "language": "python",
   "name": "python3"
  },
  "language_info": {
   "codemirror_mode": {
    "name": "ipython",
    "version": 3
   },
   "file_extension": ".py",
   "mimetype": "text/x-python",
   "name": "python",
   "nbconvert_exporter": "python",
   "pygments_lexer": "ipython3",
   "version": "3.8.8"
  }
 },
 "nbformat": 4,
 "nbformat_minor": 4
}
